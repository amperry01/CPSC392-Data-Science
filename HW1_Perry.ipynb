{
 "cells": [
  {
   "cell_type": "code",
   "execution_count": null,
   "id": "0bcb6d82",
   "metadata": {},
   "outputs": [],
   "source": [
    "import warnings\n",
    "warnings.filterwarnings('ignore')\n",
    "\n",
    "# data imports\n",
    "import pandas as pd\n",
    "import numpy as np\n",
    "from plotnine import *\n",
    "\n",
    "# modeling imports\n",
    "from sklearn.linear_model import LinearRegression # linear regression\n",
    "from sklearn.preprocessing import StandardScaler, PolynomialFeatures, OneHotEncoder # z-score varaibles, polynomial features, one-hot encoding\n",
    "from sklearn.metrics import mean_squared_error, mean_absolute_error, mean_absolute_percentage_error, r2_score # model evaluation metrics\n",
    "\n",
    "# pipeline imports\n",
    "from sklearn.pipeline import make_pipeline\n",
    "from sklearn.compose import make_column_transformer\n",
    "%matplotlib inline"
   ]
  },
  {
   "cell_type": "markdown",
   "id": "e8c66c5b",
   "metadata": {},
   "source": [
    "# Homework 1"
   ]
  },
  {
   "cell_type": "markdown",
   "id": "fbef4f2d",
   "metadata": {},
   "source": [
    "## Data"
   ]
  },
  {
   "cell_type": "code",
   "execution_count": null,
   "id": "e2044e7e",
   "metadata": {},
   "outputs": [],
   "source": [
    "url = pd.read_csv(\"https://raw.githubusercontent.com/ywen2021/CPSC392/main/Data/boutique.csv\")\n",
    "url.head()\n",
    "\n",
    "# drop missing values\n",
    "url.dropna(inplace = True)\n",
    "url.reset_index(drop= True, inplace= True)\n",
    "\n",
    "# set up X and y\n",
    "X = url.drop(columns=\"amount_spent_annual\") # predictors (features); all independent variables\n",
    "y = url[\"amount_spent_annual\"] # response (target); dependent variable"
   ]
  },
  {
   "cell_type": "markdown",
   "id": "c7333aef",
   "metadata": {},
   "source": [
    "## 1. Modeling"
   ]
  },
  {
   "cell_type": "code",
   "execution_count": null,
   "id": "257fa826",
   "metadata": {},
   "outputs": [],
   "source": [
    "# train-test split (80-20 split)\n",
    "from sklearn.model_selection import train_test_split\n",
    "X_train, X_test, y_train, y_test = train_test_split(X, y, test_size=0.2, random_state=42)\n",
    "\n",
    "# define column types\n",
    "numerical = [\"age\", \"height_cm\", \"waist_size_cm\", \"inseam_cm\", \"salary_self_report_in_k\", \"months_active\", \"num_purchases\"]\n",
    "categorical = [\"gender\", \"test_group\"]\n",
    "\n",
    "# create column transformer (preprocessor); z-score numerical variables, one-hot encode categorical variables\n",
    "preprocessor = make_column_transformer(\n",
    "    (StandardScaler(), numerical),\n",
    "    (OneHotEncoder(drop=\"first\"), categorical),\n",
    "    remainder=\"passthrough\" # passthrough any other columns not specified (if any)\n",
    ")"
   ]
  },
  {
   "cell_type": "code",
   "execution_count": null,
   "id": "c3eb1341",
   "metadata": {},
   "outputs": [],
   "source": [
    "# LINEAR REGRESSION MODEL\n",
    "\n",
    "# create linear regression pipeline\n",
    "linear_model = make_pipeline(preprocessor, LinearRegression())\n",
    "\n",
    "# fit \n",
    "linear_model.fit(X_train, y_train)\n",
    "\n",
    "# predict\n",
    "y_train_pred_linear = linear_model.predict(X_train)\n",
    "y_test_pred_linear = linear_model.predict(X_test)\n",
    "\n",
    "# TRAIN metrics\n",
    "print(\"Training Metrics:\")\n",
    "print(\"MSE: \", mean_squared_error(y_train, y_train_pred_linear))\n",
    "print(\"MAE: \", mean_absolute_error(y_train, y_train_pred_linear))\n",
    "print(\"MAPE: \", mean_absolute_percentage_error(y_train, y_train_pred_linear))\n",
    "print(\"R^2: \", r2_score(y_train, y_train_pred_linear))\n",
    "\n",
    "# TEST metrics\n",
    "print(\"\\nTesting Metrics:\")\n",
    "print(\"MSE: \", mean_squared_error(y_test, y_test_pred_linear))\n",
    "print(\"MAE: \", mean_absolute_error(y_test, y_test_pred_linear))\n",
    "print(\"MAPE: \", mean_absolute_percentage_error(y_test, y_test_pred_linear))\n",
    "print(\"R^2: \", r2_score(y_test, y_test_pred_linear))"
   ]
  },
  {
   "cell_type": "code",
   "execution_count": null,
   "id": "54f169b8",
   "metadata": {},
   "outputs": [],
   "source": [
    "# POLYNOMIAL REGRESSION MODEL (2nd degree)\n",
    "\n",
    "# create polynomial regression pipeline\n",
    "poly_model = make_pipeline(preprocessor, PolynomialFeatures(degree=2, include_bias=False), LinearRegression())\n",
    "\n",
    "# fit\n",
    "poly_model.fit(X_train, y_train)\n",
    "\n",
    "# predict\n",
    "y_train_pred_poly = poly_model.predict(X_train)\n",
    "y_test_pred_poly = poly_model.predict(X_test)\n",
    "\n",
    "# TRAIN metrics\n",
    "print(\"Training Metrics:\")\n",
    "print(\"MSE: \", mean_squared_error(y_train, y_train_pred_poly))\n",
    "print(\"MAE: \", mean_absolute_error(y_train, y_train_pred_poly))\n",
    "print(\"MAPE: \", mean_absolute_percentage_error(y_train, y_train_pred_poly))\n",
    "print(\"R^2: \", r2_score(y_train, y_train_pred_poly))\n",
    "\n",
    "# TEST metrics\n",
    "print(\"\\nTesting Metrics:\")\n",
    "print(\"MSE: \", mean_squared_error(y_test, y_test_pred_poly))\n",
    "print(\"MAE: \", mean_absolute_error(y_test, y_test_pred_poly))\n",
    "print(\"MAPE: \", mean_absolute_percentage_error(y_test, y_test_pred_poly))\n",
    "print(\"R^2: \", r2_score(y_test, y_test_pred_poly))"
   ]
  },
  {
   "cell_type": "code",
   "execution_count": null,
   "id": "87c95ebe",
   "metadata": {},
   "outputs": [],
   "source": [
    "# POLYNOMIAL REGRESSION MODEL (3rd degree, interaction only)\n",
    "\n",
    "# create polynomial regression pipeline\n",
    "poly3_model = make_pipeline(preprocessor, PolynomialFeatures(degree=3, interaction_only=True, include_bias=False), LinearRegression())\n",
    "\n",
    "# fit\n",
    "poly3_model.fit(X_train, y_train)\n",
    "\n",
    "# predict\n",
    "y_train_pred_poly3 = poly3_model.predict(X_train)\n",
    "y_test_pred_poly3 = poly3_model.predict(X_test)\n",
    "\n",
    "# TRAIN metrics\n",
    "print(\"Training Metrics:\")\n",
    "print(\"MSE: \", mean_squared_error(y_train, y_train_pred_poly3))\n",
    "print(\"MAE: \", mean_absolute_error(y_train, y_train_pred_poly3))\n",
    "print(\"MAPE: \", mean_absolute_percentage_error(y_train, y_train_pred_poly3))\n",
    "print(\"R^2: \", r2_score(y_train, y_train_pred_poly3))\n",
    "\n",
    "# TEST metrics\n",
    "print(\"\\nTesting Metrics:\")\n",
    "print(\"MSE: \", mean_squared_error(y_test, y_test_pred_poly3))\n",
    "print(\"MAE: \", mean_absolute_error(y_test, y_test_pred_poly3))\n",
    "print(\"MAPE: \", mean_absolute_percentage_error(y_test, y_test_pred_poly3))\n",
    "print(\"R^2: \", r2_score(y_test, y_test_pred_poly3))"
   ]
  },
  {
   "cell_type": "markdown",
   "id": "0cdc3f82",
   "metadata": {},
   "source": [
    "## 2. Graphs"
   ]
  },
  {
   "cell_type": "code",
   "execution_count": null,
   "id": "748f9d96",
   "metadata": {},
   "outputs": [],
   "source": [
    "# GRAPHS Q2.1: Salary vs Number of Purchases\n",
    "\n",
    "p1 = (ggplot(url, aes(x=\"salary_self_report_in_k\", y=\"num_purchases\"))\n",
    "        + geom_point(color=\"steelblue\", alpha=0.5)\n",
    "        + geom_smooth(method=\"lm\", color=\"darkred\", se=True)\n",
    "        + labs(title=\"Relationship between Salary and Number of Purchases\",\n",
    "               x = \"Self Reported Salary (in $1000s)\",\n",
    "               y = \"Number of Purchases\"\n",
    "        )\n",
    "        + theme_minimal()\n",
    ")\n",
    "\n",
    "p1"
   ]
  },
  {
   "cell_type": "code",
   "execution_count": null,
   "id": "fa7b259b",
   "metadata": {},
   "outputs": [],
   "source": [
    "# GRAPHS Q2.2: Salary vs Amount Spent Annual\n",
    "\n",
    "p2 = (ggplot(url, aes(x=\"salary_self_report_in_k\", y=\"amount_spent_annual\"))\n",
    "        + geom_point(color=\"seagreen\", alpha=0.5)\n",
    "        + geom_smooth(method=\"lm\", color=\"darkred\", se=True)\n",
    "        + labs(title=\"Relationship between Salary and Amount Spent Annually\",\n",
    "                x = \"Self Reported Salary (in $1000s)\",\n",
    "                y = \"Amount Spent Annually ($)\"\n",
    "        )\n",
    "        + theme_minimal()\n",
    ")\n",
    "\n",
    "p2"
   ]
  },
  {
   "cell_type": "code",
   "execution_count": null,
   "id": "90ad3005",
   "metadata": {},
   "outputs": [],
   "source": [
    "# GRAPHS Q4.1: Inseam vs Amount Spent Annual\n",
    "\n",
    "p3 = (ggplot(url, aes(x=\"inseam_cm\", y=\"amount_spent_annual\"))\n",
    "        + geom_point(color=\"purple\", alpha=0.5)\n",
    "        + geom_smooth(method=\"lm\", color=\"darkred\", se=True)\n",
    "        + labs(title=\"Relationship between Inseam and Amount Spent Annually\",\n",
    "                x = \"Inseam (cm)\",\n",
    "                y = \"Amount Spent Annually ($)\"\n",
    "        )\n",
    "        + theme_minimal()\n",
    ")   \n",
    "\n",
    "p3"
   ]
  },
  {
   "cell_type": "code",
   "execution_count": null,
   "id": "36145ef2",
   "metadata": {},
   "outputs": [],
   "source": [
    "# GRAPHS Q4.2: Height vs Amount Spent Annual\n",
    "\n",
    "p4 = (ggplot(url, aes(x=\"height_cm\", y=\"amount_spent_annual\"))\n",
    "        + geom_point(color=\"orange\", alpha=0.5)\n",
    "        + geom_smooth(method=\"lm\", color=\"darkred\", se=True)\n",
    "        + labs(title=\"Relationship between Height and Amount Spent Annually\",\n",
    "                x = \"Height (cm)\",\n",
    "                y = \"Amount Spent Annually ($)\"\n",
    "        )\n",
    "        + theme_minimal()\n",
    ")\n",
    "\n",
    "p4"
   ]
  }
 ],
 "metadata": {
  "kernelspec": {
   "display_name": "venv",
   "language": "python",
   "name": "python3"
  },
  "language_info": {
   "codemirror_mode": {
    "name": "ipython",
    "version": 3
   },
   "file_extension": ".py",
   "mimetype": "text/x-python",
   "name": "python",
   "nbconvert_exporter": "python",
   "pygments_lexer": "ipython3",
   "version": "3.11.4"
  }
 },
 "nbformat": 4,
 "nbformat_minor": 5
}

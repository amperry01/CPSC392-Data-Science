{
 "cells": [
  {
   "cell_type": "code",
   "execution_count": null,
   "id": "0bcb6d82",
   "metadata": {},
   "outputs": [],
   "source": [
    "import warnings\n",
    "warnings.filterwarnings('ignore')\n",
    "\n",
    "# data imports\n",
    "import pandas as pd\n",
    "import numpy as np\n",
    "from plotnine import *\n",
    "\n",
    "# modeling imports\n",
    "from sklearn.linear_model import LinearRegression # linear regression\n",
    "from sklearn.preprocessing import StandardScaler, PolynomialFeatures # z-score varaibles, polynomial features\n",
    "from sklearn.metrics import mean_squared_error, mean_absolute_error, mean_absolute_percentage_error, r2_score # model evaluation metrics\n",
    "\n",
    "# pipeline imports\n",
    "from sklearn.pipeline import make_pipeline, Pipeline\n",
    "from sklearn.compose import make_column_transformer\n",
    "%matplotlib inline"
   ]
  },
  {
   "cell_type": "markdown",
   "id": "e8c66c5b",
   "metadata": {},
   "source": [
    "# Homework 1"
   ]
  },
  {
   "cell_type": "markdown",
   "id": "fbef4f2d",
   "metadata": {},
   "source": [
    "## Data"
   ]
  },
  {
   "cell_type": "code",
   "execution_count": null,
   "id": "e2044e7e",
   "metadata": {},
   "outputs": [],
   "source": []
  },
  {
   "cell_type": "markdown",
   "id": "c7333aef",
   "metadata": {},
   "source": [
    "## 1. Modeling"
   ]
  },
  {
   "cell_type": "code",
   "execution_count": null,
   "id": "257fa826",
   "metadata": {},
   "outputs": [],
   "source": []
  },
  {
   "cell_type": "markdown",
   "id": "0cdc3f82",
   "metadata": {},
   "source": [
    "## 2. Graphs"
   ]
  },
  {
   "cell_type": "code",
   "execution_count": null,
   "id": "748f9d96",
   "metadata": {},
   "outputs": [],
   "source": []
  }
 ],
 "metadata": {
  "kernelspec": {
   "display_name": "venv",
   "language": "python",
   "name": "python3"
  },
  "language_info": {
   "name": "python",
   "version": "3.11.4"
  }
 },
 "nbformat": 4,
 "nbformat_minor": 5
}
